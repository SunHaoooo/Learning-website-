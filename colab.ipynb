{
  "cells": [
    {
      "cell_type": "code",
      "source": [
        "# IMPORTANT: RUN THIS CELL IN ORDER TO IMPORT YOUR KAGGLE DATA SOURCES,\n",
        "# THEN FEEL FREE TO DELETE THIS CELL.\n",
        "# NOTE: THIS NOTEBOOK ENVIRONMENT DIFFERS FROM KAGGLE'S PYTHON\n",
        "# ENVIRONMENT SO THERE MAY BE MISSING LIBRARIES USED BY YOUR\n",
        "# NOTEBOOK.\n",
        "import kagglehub\n",
        "lukexng_animefaces_512x512_path = kagglehub.dataset_download('lukexng/animefaces-512x512')\n",
        "\n",
        "print('Data source import complete.')"
      ],
      "metadata": {
        "id": "kR3IVETh6sKL"
      },
      "execution_count": null,
      "outputs": []
    },
    {
      "cell_type": "markdown",
      "metadata": {
        "id": "CQBJ_Sj98vWc",
        "outputId": "c006713a-7025-4edf-cd47-4cdf0868c024"
      },
      "source": [
        "### 01. Connect to your Google Drive\n",
        "\n",
        "Run the code below to connect to your Google Drive folders.\n",
        "You will be prompted for permissions to access your drive.\n"
      ]
    },
    {
      "cell_type": "code",
      "execution_count": null,
      "metadata": {
        "id": "BkYVAEIp6rak"
      },
      "outputs": [],
      "source": [
        "try:\n",
        "    from google.colab import drive\n",
        "\n",
        "    drive.mount(\"/content/drive\", force_remount=True)\n",
        "    COLAB = True\n",
        "    print(\"Note: using Google CoLab\")\n",
        "except:\n",
        "    print(\"Note: not using Google CoLab\")\n",
        "    COLAB = False\n"
      ]
    },
    {
      "cell_type": "markdown",
      "metadata": {
        "id": "Lreffp1T6ram"
      },
      "source": [
        "### 02. Verify if GPUs are turned on and available\n",
        "\n",
        "If the `nvidia-smi` script does not return any GPUs, you need to turn on GPUs in:\n",
        "\n",
        "```\n",
        "Menu -> Runtime -> Change runtime type -> Hardware Accelerator Dropdown -> select \"GPU\"\n",
        "```"
      ]
    },
    {
      "cell_type": "code",
      "execution_count": null,
      "metadata": {
        "id": "AamOnb326ram"
      },
      "outputs": [],
      "source": [
        "# Verify if GPUs are available\n",
        "!nvidia-smi"
      ]
    },
    {
      "cell_type": "code",
      "execution_count": null,
      "metadata": {
        "id": "CrPsvA9y81IK"
      },
      "outputs": [],
      "source": [
        "# Install dependencies and clone StyleGAN3\n",
        "\n",
        "!pip install torch==1.9.0 torchvision==0.10.0\n",
        "!git clone https://github.com/NVlabs/stylegan3.git\n",
        "!pip install ninja"
      ]
    },
    {
      "cell_type": "markdown",
      "metadata": {
        "id": "qQpcEJZq6ran"
      },
      "source": [
        "### 03. Create folders for training\n",
        "\n",
        "Create a folder structure in your Google Drive:\n",
        "\n",
        "```\n",
        "├── stylegan\n",
        "│   ├── images\n",
        "│   │   ├── <Your dataset folder containing images with dimensions of power of 2 (ex. - 64x64, 128x128, 1024x1024)>\n",
        "│   ├── datasets\n",
        "│   ├── experiments\n",
        "```\n",
        "\n",
        "You can use [ImageMagick's](https://imagemagick.org/) batch image processor script `mogrify` locally before uploading to Google Drive to make sure all your images\n",
        "\n",
        "Take note of your raw dataset folder name and put it in the `RAW_DATASET_FOLDER_NAME` variable below.\n"
      ]
    },
    {
      "cell_type": "code",
      "execution_count": null,
      "metadata": {
        "id": "Ry5U1Ke59tUt"
      },
      "outputs": [],
      "source": [
        "import os\n",
        "\n",
        "# Change this to your dataset folder name\n",
        "RAW_DATASET_FOLDER_NAME = \"<CHANGE_ME>\"\n",
        "\n",
        "STYLEGAN_ROOT_FOLDER = os.path.join(\n",
        "    os.sep, \"content\", \"drive\", \"MyDrive\", \"stylegan\"\n",
        ")\n",
        "RAW_DATASET_PATH = os.path.join(STYLEGAN_ROOT_FOLDER, \"images\", RAW_DATASET_FOLDER_NAME)\n",
        "ZIP_DATASET_PATH = os.path.join(STYLEGAN_ROOT_FOLDER, \"datasets\", RAW_DATASET_FOLDER_NAME + \".zip\")\n",
        "EXPERIMENTS_PATH = os.path.join(STYLEGAN_ROOT_FOLDER, \"experiments\")\n"
      ]
    },
    {
      "cell_type": "code",
      "execution_count": null,
      "metadata": {
        "id": "xw6WBYjt_H1R"
      },
      "outputs": [],
      "source": [
        "dataset_creation_cmd = f\"python /content/stylegan3/dataset_tool.py --source={RAW_DATASET_PATH} --dest={ZIP_DATASET_PATH}\"\n",
        "!{dataset_creation_cmd}"
      ]
    },
    {
      "cell_type": "code",
      "execution_count": null,
      "metadata": {
        "id": "WjAeDOEz_TcC"
      },
      "outputs": [],
      "source": [
        "# Verifies your dataset for inconsistent sizes and colour formats\n",
        "# Script created by @jeffheaton\n",
        "\n",
        "from os import listdir\n",
        "from os.path import isfile, join\n",
        "import os\n",
        "from PIL import Image\n",
        "from tqdm.notebook import tqdm\n",
        "\n",
        "\n",
        "files = [f for f in listdir(RAW_DATASET_PATH) if isfile(join(RAW_DATASET_PATH, f))]\n",
        "\n",
        "base_size = None\n",
        "for file in tqdm(files):\n",
        "    file2 = os.path.join(RAW_DATASET_PATH, file)\n",
        "    img = Image.open(file2)\n",
        "    sz = img.size\n",
        "    if base_size and sz != base_size:\n",
        "        print(f\"Inconsistant size: {file2}\")\n",
        "    elif img.mode != \"RGB\":\n",
        "        print(f\"Inconsistant color format: {file2}\")\n",
        "    else:\n",
        "        base_size = sz\n"
      ]
    },
    {
      "cell_type": "markdown",
      "metadata": {
        "id": "kAHJQUO96rap"
      },
      "source": [
        "### 04. Training\n",
        "\n",
        "You can play around with different configurations here. A few descriptions:\n",
        "\n",
        "- `CFG` - you can pick `stylegan3-t` (only designed for translation equivariance) or `stylegan3-r` (features high-quality, though not visually perfect rotation equivariance). More details in the [official NVIDIA StyleGAN3 documentation](https://nvlabs.github.io/stylegan3/)\n",
        "- `BATCH_SIZE` - the number of samples that will be passed through to the network at one time\n",
        "- `BATCH_GPU` - per-GPU batch size\n",
        "- `GAMMA` - R1 regularization weight\n",
        "- `SNAP` - number of epochs before saving a new checkpoint in the `experiments` folder on Google Drive (for Google Colab Free, it is recommended to keep this low, say `5` or `10`)\n",
        "\n",
        "You can refer to the [official documentation's recommended configurations](https://github.com/NVlabs/stylegan3/blob/main/docs/configs.md#recommended-configurations) to see more config parameters."
      ]
    },
    {
      "cell_type": "code",
      "execution_count": null,
      "metadata": {
        "id": "wxnJPUw__bwQ"
      },
      "outputs": [],
      "source": [
        "import os\n",
        "\n",
        "# Modify these to suit your needs\n",
        "CFG = \"stylegan3-t\"\n",
        "BATCH_SIZE = 32\n",
        "BATCH_GPU = 16\n",
        "GAMMA = 0.5\n",
        "SNAP = 5\n",
        "\n",
        "# Build the command and run it\n",
        "cmd = f\"/usr/bin/python3 /content/stylegan3/train.py --outdir={EXPERIMENTS_PATH} --data={ZIP_DATASET_PATH} --cfg={CFG} --gpus=1 --workers=1 --batch={BATCH_SIZE} --batch-gpu={BATCH_GPU} --gamma={GAMMA} --snap={SNAP}\"\n",
        "!{cmd}"
      ]
    },
    {
      "cell_type": "markdown",
      "metadata": {
        "id": "rHz5NlPZ6rap"
      },
      "source": [
        "### 05. Resuming training\n",
        "\n",
        "Your Colab instance will automatically be turned off after 12 hours (Colab Free) or 24 hours (Colab Pro/Pro+).\n",
        "You can resume training with the code below.\n",
        "\n",
        "Check your Google Drive folder to check the `CHECKPOINT_FOLDER` and `NETWORK` name in the `experiments` folder.\n",
        "An example of this is:\n",
        "\n",
        "```\n",
        "├── stylegan\n",
        "│   ├── images\n",
        "│   ├── dataset\n",
        "│   ├── experiments\n",
        "│   │   ├── 00002-dogs_images-auto1-resumecustom --> This is the `CHECKPOINT_FOLDER`\n",
        "│   │   │   ├── network-snapshot-000160.pkl --> This is the `NETWORK`\n",
        "```\n",
        "\n",
        "You can use the `NETWORK` with the latest epoch to continue.\n",
        "The confgurations are the same as the ones in *04. Training*."
      ]
    },
    {
      "cell_type": "code",
      "execution_count": null,
      "metadata": {
        "id": "RB2juHc8AVI-"
      },
      "outputs": [],
      "source": [
        "# Resume Training\n",
        "\n",
        "import os\n",
        "\n",
        "# Modify these to suit your needs\n",
        "CHECKPOINT_FOLDER = \"<CHANGE_ME>\"\n",
        "NETWORK = \"<CHANGE_ME>\"\n",
        "RESUME = os.path.join(EXPERIMENTS_PATH, CHECKPOINT_FOLDER, NETWORK)\n",
        "\n",
        "# Modify these to suit your needs\n",
        "CFG = \"stylegan3-t\"\n",
        "BATCH_SIZE = 32\n",
        "BATCH_GPU = 16\n",
        "GAMMA = 0.5\n",
        "SNAP = 5\n",
        "\n",
        "# Build the command and run it\n",
        "cmd = f\"/usr/bin/python3 /content/stylegan3/train.py --resume={RESUME} --outdir={EXPERIMENTS_PATH} --data={ZIP_DATASET_PATH} --cfg={CFG} --gpus=1 --workers=1 --batch={BATCH_SIZE} --batch-gpu={BATCH_GPU} --gamma={GAMMA} --snap={SNAP}\"\n",
        "!{cmd}"
      ]
    },
    {
      "cell_type": "code",
      "source": [],
      "metadata": {
        "id": "lABFxfDM6_-o"
      },
      "execution_count": null,
      "outputs": []
    }
  ],
  "metadata": {
    "accelerator": "GPU",
    "colab": {
      "name": "stylegan3.ipynb",
      "provenance": []
    },
    "kernelspec": {
      "display_name": "Python 3",
      "name": "python3"
    },
    "language_info": {
      "name": "python"
    }
  },
  "nbformat": 4,
  "nbformat_minor": 0
}